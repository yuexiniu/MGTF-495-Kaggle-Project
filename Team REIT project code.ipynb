{
 "cells": [
  {
   "cell_type": "code",
   "execution_count": 1,
   "id": "ecb9e6ce",
   "metadata": {},
   "outputs": [],
   "source": [
    "from sklearn.model_selection import train_test_split\n",
    "from sklearn.metrics import accuracy_score\n",
    "import seaborn as sns\n",
    "\n",
    "import numpy as np\n",
    "import pandas as pd\n",
    "import matplotlib.pyplot as plt\n",
    "%matplotlib inline"
   ]
  },
  {
   "cell_type": "code",
   "execution_count": 2,
   "id": "ccc93da9",
   "metadata": {},
   "outputs": [],
   "source": [
    "# import data\n",
    "train = pd.read_csv('train.csv')\n",
    "test = pd.read_csv('test.csv')\n",
    "\n",
    "# split labels from train data\n",
    "labels = train['SalePrice']"
   ]
  },
  {
   "cell_type": "code",
   "execution_count": 3,
   "id": "bf929d7c",
   "metadata": {},
   "outputs": [],
   "source": [
    "# display 1000 columns for each dataframe\n",
    "pd.set_option('display.max_columns', 1000)"
   ]
  },
  {
   "cell_type": "code",
   "execution_count": 6,
   "id": "3fba65dd",
   "metadata": {},
   "outputs": [
    {
     "data": {
      "text/plain": [
       "EnclosedPorchArea      -0.146201\n",
       "Kitchens               -0.109021\n",
       "OverallRating          -0.083872\n",
       "BuildingClass          -0.059458\n",
       "BsmtHalfBaths          -0.039713\n",
       "LowQualityFinishArea   -0.037948\n",
       "YearSold               -0.023300\n",
       "Misc                   -0.014690\n",
       "ID                     -0.014099\n",
       "BsmtFinish2Area        -0.007454\n",
       "MonthSold               0.018922\n",
       "PoolSize                0.022977\n",
       "SeasonPorchArea         0.034537\n",
       "Bedrooms                0.137496\n",
       "ScreenPorchArea         0.138364\n",
       "BsmtUnfinishedArea      0.158342\n",
       "LotSize                 0.246017\n",
       "BsmtFullBaths           0.275107\n",
       "2ndFloorArea            0.280535\n",
       "HalfBaths               0.305198\n",
       "WoodDeckArea            0.306614\n",
       "OpenPorchArea           0.309933\n",
       "LotFrontage             0.336060\n",
       "BsmtFinish1Area         0.434104\n",
       "Fireplaces              0.475965\n",
       "TotalRooms              0.493710\n",
       "GarageYearBuilt         0.524158\n",
       "YearRemodelled          0.536047\n",
       "MasVnrArea              0.542733\n",
       "FullBaths               0.544482\n",
       "YearBuilt               0.570803\n",
       "1stFloorArea            0.610373\n",
       "TotalBsmtArea           0.617915\n",
       "GarageArea              0.637292\n",
       "GarageCars              0.646939\n",
       "LivingArea              0.694213\n",
       "Quality                 0.798189\n",
       "SalePrice               1.000000\n",
       "Name: SalePrice, dtype: float64"
      ]
     },
     "execution_count": 6,
     "metadata": {},
     "output_type": "execute_result"
    }
   ],
   "source": [
    "# Find correlations between features and label\n",
    "cor = train.corr()\n",
    "correlation = cor['SalePrice'].sort_values()"
   ]
  },
  {
   "cell_type": "code",
   "execution_count": 7,
   "id": "ee78f6ee",
   "metadata": {},
   "outputs": [],
   "source": [
    "# appending train and test data so that we can clean them together\n",
    "data = train.append(test)"
   ]
  },
  {
   "cell_type": "code",
   "execution_count": 62,
   "id": "ee6127b8",
   "metadata": {},
   "outputs": [],
   "source": [
    "# delete features that have more than 80% empty value\n",
    "empty=data.isnull().sum().sort_values(ascending=False)\n",
    "ratio=empty/len(data)\n",
    "ratio = pd.DataFrame(ratio)\n",
    "ratio.columns = ['empty ratio']\n",
    "ratio = ratio[ratio['empty ratio']>0]\n",
    "data = data.drop(ratio[ratio['empty ratio'] > 0.8].index,axis = 1)"
   ]
  },
  {
   "cell_type": "code",
   "execution_count": 63,
   "id": "2c135541",
   "metadata": {},
   "outputs": [],
   "source": [
    "# convert nan into none in time, type and quality features\n",
    "feature1 = [\"FireplaceQuality\", \"GarageCondition\",\"GarageQuality\", \"GarageType\",'BsmtExposure','BsmtFinishType2',\\\n",
    "            'BsmtFinishType1', \"GarageYearBuilt\",'GarageFinish', \"MasVnrType\",'BsmtCondition',\"BsmtHeight\"]\n",
    "for i in feature1:\n",
    "    data[i] = data[i].fillna('None')"
   ]
  },
  {
   "cell_type": "code",
   "execution_count": 64,
   "id": "bed5bc74",
   "metadata": {},
   "outputs": [],
   "source": [
    "# convert nan into 0 in features related to numbers\n",
    "feature12 = [\"GarageCars\",'MasVnrArea','BsmtHalfBaths','BsmtFullBaths','GarageArea','BsmtFinish1Area',\\\n",
    "            'BsmtFinish2Area','BsmtUnfinishedArea','TotalBsmtArea']\n",
    "for i in feature12:\n",
    "    data[i] = data[i].fillna(0)"
   ]
  },
  {
   "cell_type": "code",
   "execution_count": 65,
   "id": "c4aecd83",
   "metadata": {},
   "outputs": [],
   "source": [
    "# convert nan into mean value in LotFrontage \n",
    "m = data['LotFrontage'].mean()\n",
    "data['LotFrontage'] = data['LotFrontage'].fillna(m)"
   ]
  },
  {
   "cell_type": "code",
   "execution_count": 66,
   "id": "01cfa65c",
   "metadata": {},
   "outputs": [],
   "source": [
    "# drop features that are not closely correlated with sale price\n",
    "d =['Foundation','MasVnrType','RoofType','Functional','Electrical','ProximityToMainRoad','TypeOfRoadAccess',\\\n",
    "'Shape','Flatness','HeatingType','SlopeOfProperty','Exterior2','GarageType','ProximityToMainRoad2',\\\n",
    "'Lot Config','SaleType','RoofMaterial','Exterior1','GarageFinish','ID']\n",
    "data.drop(d, axis = 1, inplace = True)"
   ]
  },
  {
   "cell_type": "code",
   "execution_count": 73,
   "id": "5cf95e0f",
   "metadata": {},
   "outputs": [],
   "source": [
    "# map categorical feature values to numerical values manually for special feature values\n",
    "data['Paved Drive'] = data['Paved Drive'].map({'N':1, 'P':2, 'Y':3})\n",
    "data['BsmtExposure'] = data['BsmtExposure'].map({'None':1, 'No':2, 'Mn':3, 'Av':4, 'Gd':5})\n",
    "data['KitchenQuality'] = data['KitchenQuality'].map({'Po':1, 'Fa':2, 'TA':3, 'Gd':4, 'Ex':5})\n",
    "\n",
    "data['Neighborhood'] = data['Neighborhood'].map({'MeadowV':1,'IDOTRR':2, 'BrDale':2,'OldTown':3, 'Edwards':3, 'BrkSide':3,\\\n",
    "                                'Sawyer':4, 'Blueste':4, 'SWISU':4, 'NAmes':4,'NPkVill':5, 'Mitchel':5,\\\n",
    "                                'SawyerW':6, 'Gilbert':6, 'NWAmes':6,'Blmngtn':7, 'CollgCr':7, 'ClearCr':7, \\\n",
    "                                'Crawfor':7,'Veenker':8, 'Somerst':8, 'Timber':8,'Greens':8,'StoneBr':9,'NoRidge':10, 'NridgHt':10,\\\n",
    "                                 'GrnHill':11,'Landmrk':12})\n",
    "\n",
    "data['HeatingQuality'] = data['HeatingQuality'].map({'Po':1, 'Fa':2, 'TA':3, 'Gd':4, 'Ex':5})\n",
    "\n",
    "data['ExteriorQual'] = data['ExteriorQual'].map({'Fa':1, 'TA':2, 'Gd':3, 'Ex':4})\n",
    "data['UtilitiesAvailable'] = data['UtilitiesAvailable'].map({'NoSewr':1, 'NoSeWa':1, 'AllPub':2})\n",
    "data['FireplaceQuality'] = data['FireplaceQuality'].map({'None':1, 'Po':2, 'Fa':3, 'TA':4, 'Gd':5, 'Ex':6})\n",
    "data['BsmtCondition'] = data['BsmtCondition'].map({'None':1, 'Po':2, 'Fa':3, 'TA':4, 'Gd':5, 'Ex':6})\n",
    "data['BsmtHeight'] = data['BsmtHeight'].map({'None':1, 'Po':2, 'Fa':3, 'TA':4, 'Gd':5, 'Ex':6})\n",
    "data['BsmtFinishType1'] = data['BsmtFinishType1'].map({'None':1, 'Unf':2, 'LwQ':3, 'Rec':4, 'BLQ':5, 'ALQ':6, 'GLQ':7})\n",
    "data['BsmtFinishType2'] = data['BsmtFinishType2'].map({'None':1, 'Unf':2, 'LwQ':3, 'Rec':4, 'BLQ':5, 'ALQ':6, 'GLQ':7})\n",
    "data['ExteriorCond'] = data['ExteriorCond'].map({'None':1, 'Po':2, 'Fa':3, 'TA':4, 'Gd':5, 'Ex':6})\n",
    "data['GarageCondition'] = data['GarageCondition'].map({'None':1, 'Po':2, 'Fa':3, 'TA':4, 'Gd':5, 'Ex':6})\n",
    "data['ZoningClass'] = data['ZoningClass'].map({'C (all)':1,'A (agr)':1,'I (all)':1, 'RM':2, 'RH':2, 'RL':3, 'FV':4})\n",
    "\n",
    "data['HouseStyle'] = data['HouseStyle'].map({'1.5Unf':1,'1.5Fin':2, '2.5Unf':2, 'SFoyer':2, '1Story':3, 'SLvl':3,\\\n",
    "                                           '2Story':4, '2.5Fin':4})\n",
    "data['GarageQuality'] = data['GarageQuality'].map({'None':1, 'Po':2, 'Fa':3, 'TA':4, 'Gd':5, 'Ex':6})\n",
    "data['Central Air'] = data['Central Air'].map({'N':1,'Y':2})\n",
    "    \n",
    "data['SaleCondition'] = data['SaleCondition'].map({'Abnorml':1, 'Partial':2, 'Normal':3, 'Family':4, 'Alloca':5, 'AdjLand':6})\n",
    "data['HouseType'] = data['HouseType'].map({'1Fam':1, 'Partial':2, 'TwnhsE':3, 'Duplex':4, 'Twnhs':5, '2fmCon':6})\n"
   ]
  },
  {
   "cell_type": "code",
   "execution_count": 74,
   "id": "1d61befc",
   "metadata": {},
   "outputs": [],
   "source": [
    "# map categorical feature values to numerical values manually for other feature values\n",
    "from sklearn.preprocessing import LabelEncoder\n",
    "le = LabelEncoder()\n",
    "for i in ['YearSold','MonthSold','YearBuilt','YearRemodelled','GarageYearBuilt']:\n",
    "    data[i] = data[i].astype(str)\n",
    "    data[i] = le.fit_transform(data[i])"
   ]
  },
  {
   "cell_type": "code",
   "execution_count": 75,
   "id": "71dbca68",
   "metadata": {},
   "outputs": [
    {
     "name": "stderr",
     "output_type": "stream",
     "text": [
      "/Users/liujia/anaconda3/lib/python3.8/site-packages/pandas/core/frame.py:4308: SettingWithCopyWarning: \n",
      "A value is trying to be set on a copy of a slice from a DataFrame\n",
      "\n",
      "See the caveats in the documentation: https://pandas.pydata.org/pandas-docs/stable/user_guide/indexing.html#returning-a-view-versus-a-copy\n",
      "  return super().drop(\n"
     ]
    }
   ],
   "source": [
    "# split train and test data, then split train data again to get new train and validation data\n",
    "train_data = data.iloc[0:2051]\n",
    "test_data = data.iloc[2051:]\n",
    "train_label = train_data['SalePrice']\n",
    "train_data_sub, val_data, train_label_sub, val_label = train_test_split(train_data,train_label,test_size=0.3)\n",
    "train_data_sub.drop(['SalePrice'], axis = 1, inplace = True)\n",
    "val_data.drop(['SalePrice'], axis = 1, inplace = True)\n",
    "test_data.drop(['SalePrice'], axis = 1, inplace = True)"
   ]
  },
  {
   "cell_type": "code",
   "execution_count": null,
   "id": "1aaf5cff",
   "metadata": {},
   "outputs": [],
   "source": []
  },
  {
   "cell_type": "code",
   "execution_count": 80,
   "id": "c81d873c",
   "metadata": {},
   "outputs": [
    {
     "data": {
      "text/plain": [
       "0.8649153416348592"
      ]
     },
     "execution_count": 80,
     "metadata": {},
     "output_type": "execute_result"
    }
   ],
   "source": [
    "# linear regression\n",
    "from sklearn import linear_model\n",
    "li = linear_model.LinearRegression()\n",
    "li.fit(train_data_sub,train_label_sub)\n",
    "y_predicted = li.predict(val_data)\n",
    "li.score(val_data,val_label)"
   ]
  },
  {
   "cell_type": "code",
   "execution_count": 88,
   "id": "2d0a43c0",
   "metadata": {},
   "outputs": [
    {
     "name": "stderr",
     "output_type": "stream",
     "text": [
      "/Users/liujia/anaconda3/lib/python3.8/site-packages/sklearn/linear_model/_coordinate_descent.py:530: ConvergenceWarning: Objective did not converge. You might want to increase the number of iterations. Duality gap: 736226972151.8237, tolerance: 1054828070.7877489\n",
      "  model = cd_fast.enet_coordinate_descent(\n"
     ]
    },
    {
     "data": {
      "text/plain": [
       "0.8648587867353876"
      ]
     },
     "execution_count": 88,
     "metadata": {},
     "output_type": "execute_result"
    }
   ],
   "source": [
    "# lasso regression\n",
    "la = linear_model.Lasso()\n",
    "la.fit(train_data_sub,train_label_sub)\n",
    "y_predicted = la.predict(val_data)\n",
    "la.score(val_data,val_label)"
   ]
  },
  {
   "cell_type": "code",
   "execution_count": 87,
   "id": "8e347150",
   "metadata": {},
   "outputs": [
    {
     "name": "stderr",
     "output_type": "stream",
     "text": [
      "/Users/liujia/anaconda3/lib/python3.8/site-packages/sklearn/linear_model/_coordinate_descent.py:530: ConvergenceWarning: Objective did not converge. You might want to increase the number of iterations. Duality gap: 875567105212.6908, tolerance: 1054828070.7877489\n",
      "  model = cd_fast.enet_coordinate_descent(\n"
     ]
    },
    {
     "data": {
      "text/plain": [
       "0.8568834099250598"
      ]
     },
     "execution_count": 87,
     "metadata": {},
     "output_type": "execute_result"
    }
   ],
   "source": [
    "# elastic net regression\n",
    "en = linear_model.ElasticNet()\n",
    "en.fit(train_data_sub,train_label_sub)\n",
    "y_predicted = en.predict(val_data)\n",
    "en.score(val_data,val_label)"
   ]
  },
  {
   "cell_type": "code",
   "execution_count": 84,
   "id": "884a9179",
   "metadata": {},
   "outputs": [
    {
     "data": {
      "text/plain": [
       "0.8921713716674735"
      ]
     },
     "execution_count": 84,
     "metadata": {},
     "output_type": "execute_result"
    }
   ],
   "source": [
    "# random forest regression\n",
    "from sklearn.ensemble import RandomForestRegressor\n",
    "rf = RandomForestRegressor()\n",
    "rf.fit(train_data_sub,train_label_sub)\n",
    "y_predicted = rf.predict(val_data)\n",
    "rf.score(val_data,val_label)"
   ]
  },
  {
   "cell_type": "code",
   "execution_count": 134,
   "id": "e139412d",
   "metadata": {},
   "outputs": [
    {
     "data": {
      "text/plain": [
       "0.8971621465343372"
      ]
     },
     "execution_count": 134,
     "metadata": {},
     "output_type": "execute_result"
    }
   ],
   "source": [
    "rf = RandomForestRegressor(max_features=20,max_depth=20,ccp_alpha=0.9)\n",
    "rf.fit(train_data_sub,train_label_sub)\n",
    "y_predicted = rf.predict(val_data)\n",
    "rf.score(val_data,val_label)"
   ]
  },
  {
   "cell_type": "code",
   "execution_count": 84,
   "id": "333eab16",
   "metadata": {},
   "outputs": [],
   "source": [
    "# create submission file\n",
    "sub = pd.DataFrame()\n",
    "test_ID = test['ID']\n",
    "sub['Id'] = test_ID\n",
    "sub['SalePrice'] = y_predicted\n",
    "sub.to_csv('baseline_submission.csv',index=False)"
   ]
  },
  {
   "cell_type": "code",
   "execution_count": null,
   "id": "79caeee8",
   "metadata": {},
   "outputs": [],
   "source": []
  },
  {
   "cell_type": "code",
   "execution_count": null,
   "id": "651cf67b",
   "metadata": {},
   "outputs": [],
   "source": []
  },
  {
   "cell_type": "code",
   "execution_count": null,
   "id": "e0bae900",
   "metadata": {},
   "outputs": [],
   "source": []
  },
  {
   "cell_type": "code",
   "execution_count": null,
   "id": "ad71b809",
   "metadata": {},
   "outputs": [],
   "source": []
  },
  {
   "cell_type": "code",
   "execution_count": null,
   "id": "397a6059",
   "metadata": {},
   "outputs": [],
   "source": []
  },
  {
   "cell_type": "code",
   "execution_count": null,
   "id": "5dc0982c",
   "metadata": {},
   "outputs": [],
   "source": []
  },
  {
   "cell_type": "code",
   "execution_count": null,
   "id": "9f0f2c71",
   "metadata": {},
   "outputs": [],
   "source": []
  },
  {
   "cell_type": "code",
   "execution_count": null,
   "id": "ed51ff01",
   "metadata": {},
   "outputs": [],
   "source": []
  }
 ],
 "metadata": {
  "kernelspec": {
   "display_name": "Python 3",
   "language": "python",
   "name": "python3"
  },
  "language_info": {
   "codemirror_mode": {
    "name": "ipython",
    "version": 3
   },
   "file_extension": ".py",
   "mimetype": "text/x-python",
   "name": "python",
   "nbconvert_exporter": "python",
   "pygments_lexer": "ipython3",
   "version": "3.8.8"
  }
 },
 "nbformat": 4,
 "nbformat_minor": 5
}
